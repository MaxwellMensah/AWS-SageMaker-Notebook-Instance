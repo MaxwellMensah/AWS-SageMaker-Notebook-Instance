{
 "cells": [
  {
   "cell_type": "markdown",
   "id": "77ed3713",
   "metadata": {},
   "source": [
    "# Important notes* on update... \n",
    "\n",
    "* Deprecated `get_image_uri` which is now `image_uri.retrieve`\n",
    "\n",
    "* Renaming `training_instance_count` to `instance_cout`\n",
    "\n",
    "* Renaming `training_instance_type` to `instance_type`\n",
    "\n",
    "* Deprecated `s3_input` which is now sagemaker.inputs.`TrainingInput`\n",
    "\n",
    "* Renamed `csv_serializer` and `json_deserializer` to `sagemaker.serializers.CSVSerializer()` and `sagemaker.deserializers.JSONDeserializer()` respectively\n"
   ]
  },
  {
   "cell_type": "markdown",
   "id": "9417735a",
   "metadata": {},
   "source": [
    "### Importing Important Libraries"
   ]
  },
  {
   "cell_type": "markdown",
   "id": "1ee104f5",
   "metadata": {},
   "source": [
    "### Steps To Be Followed"
   ]
  },
  {
   "cell_type": "markdown",
   "id": "caaf08c0",
   "metadata": {},
   "source": [
    "1. Importing the necessary libraries\n",
    "2. Creating S3 bucket\n",
    "3. Mapping train And Test Data in S3\n",
    "4. Mapping the path of the models in S3"
   ]
  },
  {
   "cell_type": "code",
   "execution_count": 1,
   "id": "6f77b6f9",
   "metadata": {},
   "outputs": [
    {
     "data": {
      "text/plain": [
       "'2.59.3'"
      ]
     },
     "execution_count": 1,
     "metadata": {},
     "output_type": "execute_result"
    }
   ],
   "source": [
    "import sagemaker\n",
    "import boto3\n",
    "from sagemaker.amazon.amazon_estimator import image_uris\n",
    "from sagemaker.session import Session, TrainingInput\n",
    "sagemaker.__version__"
   ]
  },
  {
   "cell_type": "code",
   "execution_count": 2,
   "id": "decc8433",
   "metadata": {},
   "outputs": [
    {
     "name": "stdout",
     "output_type": "stream",
     "text": [
      "us-east-1\n"
     ]
    }
   ],
   "source": [
    "bucket_name = 'projektbankapplication' # Change the variable to the unique name of your bucket\n",
    "my_region = boto3.session.Session().region_name # set the region of the instance\n",
    "print(my_region)"
   ]
  },
  {
   "cell_type": "code",
   "execution_count": 3,
   "id": "18993f4e",
   "metadata": {},
   "outputs": [
    {
     "name": "stdout",
     "output_type": "stream",
     "text": [
      "S3 bucket created successfully\n"
     ]
    }
   ],
   "source": [
    "s3 = boto3.resource('s3')\n",
    "try:\n",
    "    if  my_region == 'us-east-1':\n",
    "        s3.create_bucket(Bucket=bucket_name)\n",
    "    print('S3 bucket created successfully')\n",
    "except Exception as e:\n",
    "    print('S3 error: ',e)"
   ]
  },
  {
   "cell_type": "code",
   "execution_count": 4,
   "id": "a5ec1940",
   "metadata": {},
   "outputs": [
    {
     "name": "stdout",
     "output_type": "stream",
     "text": [
      "s3://projektbankapplication/xgboost-as-a-built-in-algo/output\n"
     ]
    }
   ],
   "source": [
    "# Set an output path where the trained model will be saved \n",
    "prefix = 'xgboost-as-a-built-in-algo'\n",
    "output_path = 's3://{}/{}/output'.format(bucket_name, prefix)\n",
    "print(output_path)"
   ]
  },
  {
   "cell_type": "markdown",
   "id": "76952409",
   "metadata": {},
   "source": [
    "## Uploading File in S3 Bucket"
   ]
  },
  {
   "cell_type": "markdown",
   "id": "b6639dfd",
   "metadata": {},
   "source": [
    "**Downloading The Dataset And Storing in S3**"
   ]
  },
  {
   "cell_type": "code",
   "execution_count": 5,
   "id": "13496499",
   "metadata": {},
   "outputs": [
    {
     "name": "stdout",
     "output_type": "stream",
     "text": [
      "Success: downloaded bank_clean.csv.\n",
      "Success: Data loaded into dataframe.\n"
     ]
    }
   ],
   "source": [
    "import pandas as pd\n",
    "import urllib\n",
    "\n",
    "try:\n",
    "    urllib.request.urlretrieve(\"https://d1.awsstatic.com/tmt/build-train-deploy-machine-learning-model-sagemaker/bank_clean.27f01fbbdf43271788427f3682996ae29ceca05d.csv\", \"bank_clean.csv\")\n",
    "    print('Success: downloaded bank_clean.csv.')\n",
    "except Exception as e:\n",
    "    print('Data load error: ', e)\n",
    "\n",
    "try:\n",
    "    model_data = pd.read_csv('./bank_clean.csv', index_col = 0)\n",
    "    print('Success: Data loaded into dataframe.')\n",
    "except Exception as e:\n",
    "    print(\"Data load error: \", e )"
   ]
  },
  {
   "cell_type": "code",
   "execution_count": 6,
   "id": "7dba5301",
   "metadata": {},
   "outputs": [
    {
     "name": "stdout",
     "output_type": "stream",
     "text": [
      "(28831, 61) (12357, 61)\n"
     ]
    }
   ],
   "source": [
    "# Train Test Split according to aws\n",
    "\n",
    "import numpy as np\n",
    "train_data, test_data = np.split(model_data.sample(frac=1, random_state=1729), [int(0.7 * len(model_data))])\n",
    "print(train_data.shape, test_data.shape)"
   ]
  },
  {
   "cell_type": "code",
   "execution_count": 7,
   "id": "396b9a10",
   "metadata": {},
   "outputs": [],
   "source": [
    "# Saving the Train and Test into Bucket (Storage). REM: prefix = 'xgboost-as-a-built-in-algo'\n",
    "## We start with Train Data\n",
    "import os\n",
    "pd.concat([train_data['y_yes'], train_data.drop(['y_no', 'y_yes'], \n",
    "                                                axis=1)], \n",
    "                                                axis=1).to_csv('train.csv', index=False, header=False)\n",
    "boto3.Session().resource('s3').Bucket(bucket_name).Object(os.path.join(prefix, 'train/train.csv')).upload_file('train.csv')\n",
    "TrainingInput_train = TrainingInput(s3_data='s3://{}/{}/train'.format(bucket_name, prefix), content_type='csv')"
   ]
  },
  {
   "cell_type": "code",
   "execution_count": 8,
   "id": "c2ddc662",
   "metadata": {},
   "outputs": [],
   "source": [
    "# Test Data into Bucket\n",
    "import os\n",
    "pd.concat([test_data['y_yes'], test_data.drop(['y_no', 'y_yes'], axis=1)], axis=1).to_csv('test.csv', index=False, header=False)\n",
    "boto3.Session().resource('s3').Bucket(bucket_name).Object(os.path.join(prefix, 'test/test.csv')).upload_file('test.csv')\n",
    "TrainingInput_test = TrainingInput(s3_data='s3://{}/{}/test'.format(bucket_name, prefix), content_type='csv')"
   ]
  },
  {
   "cell_type": "markdown",
   "id": "b0629470",
   "metadata": {},
   "source": [
    "# Building and Training models Xgboost- Inbuilt Algorithm"
   ]
  },
  {
   "cell_type": "code",
   "execution_count": 9,
   "id": "cd439e6b",
   "metadata": {},
   "outputs": [],
   "source": [
    "# this line automatically looks for the Xgboost image URI and builds an Xgboost container.\n",
    "# Specify the repo_version depending on  your preferenece\n",
    "container = image_uris.retrieve(region=boto3.Session().region_name, framework='xgboost', version='latest') # algorithm, region, version"
   ]
  },
  {
   "cell_type": "code",
   "execution_count": 10,
   "id": "e5528f3c",
   "metadata": {},
   "outputs": [],
   "source": [
    "# construct a SageMaker estimator that calls the xgboost_container\n",
    "estimator = sagemaker.estimator.Estimator(image_uri=container,\n",
    "                                          role=sagemaker.get_execution_role(),\n",
    "                                          instance_count=1,\n",
    "                                          instance_type='ml.m5.2xlarge',\n",
    "                                          volume_size=5, #5 GB\n",
    "                                          output_path=output_path,\n",
    "                                          use_spot_instances=True,\n",
    "                                          max_run=300,\n",
    "                                          max_wait=600)"
   ]
  },
  {
   "cell_type": "code",
   "execution_count": 11,
   "id": "92b46ba7",
   "metadata": {},
   "outputs": [],
   "source": [
    "# initialize hyperparameters   # NOTE: you need to train for the parameter outside of aws console to save cost, since training might take more time\n",
    "estimator.set_hyperparameters(max_depth = 5,\n",
    "                              eta= 0.2,\n",
    "                              gamma= 4,\n",
    "                              min_child_weight= 6,\n",
    "                              num_round= 100, \n",
    "                              subsample= 0.7,\n",
    "                              objective= \"binary:logistic\")"
   ]
  },
  {
   "cell_type": "code",
   "execution_count": 12,
   "id": "12a4ad5c",
   "metadata": {
    "scrolled": false
   },
   "outputs": [
    {
     "name": "stdout",
     "output_type": "stream",
     "text": [
      "2021-10-27 00:56:21 Starting - Starting the training job...\n",
      "2021-10-27 00:56:44 Starting - Launching requested ML instancesProfilerReport-1635296181: InProgress\n",
      "......\n",
      "2021-10-27 00:57:44 Starting - Preparing the instances for training......\n",
      "2021-10-27 00:58:46 Downloading - Downloading input data...\n",
      "2021-10-27 00:59:19 Training - Training image download completed. Training in progress.\n",
      "2021-10-27 00:59:19 Uploading - Uploading generated training model.\u001b[34mArguments: train\u001b[0m\n",
      "\u001b[34m[2021-10-27:00:59:14:INFO] Running standalone xgboost training.\u001b[0m\n",
      "\u001b[34m[2021-10-27:00:59:14:INFO] File size need to be processed in the node: 4.83mb. Available memory size in the node: 23785.35mb\u001b[0m\n",
      "\u001b[34m[2021-10-27:00:59:14:INFO] Determined delimiter of CSV input is ','\u001b[0m\n",
      "\u001b[34m[00:59:14] S3DistributionType set as FullyReplicated\u001b[0m\n",
      "\u001b[34m[00:59:14] 28831x59 matrix with 1701029 entries loaded from /opt/ml/input/data/train?format=csv&label_column=0&delimiter=,\u001b[0m\n",
      "\u001b[34m[2021-10-27:00:59:14:INFO] Determined delimiter of CSV input is ','\u001b[0m\n",
      "\u001b[34m[00:59:14] S3DistributionType set as FullyReplicated\u001b[0m\n",
      "\u001b[34m[00:59:14] 12357x59 matrix with 729063 entries loaded from /opt/ml/input/data/validation?format=csv&label_column=0&delimiter=,\u001b[0m\n",
      "\u001b[34m[00:59:14] src/tree/updater_prune.cc:74: tree pruning end, 1 roots, 36 extra nodes, 12 pruned nodes, max_depth=5\u001b[0m\n",
      "\u001b[34m[0]#011train-error:0.100933#011validation-error:0.105932\u001b[0m\n",
      "\u001b[34m[00:59:14] src/tree/updater_prune.cc:74: tree pruning end, 1 roots, 30 extra nodes, 14 pruned nodes, max_depth=5\u001b[0m\n",
      "\u001b[34m[1]#011train-error:0.099442#011validation-error:0.103747\u001b[0m\n",
      "\u001b[34m[00:59:14] src/tree/updater_prune.cc:74: tree pruning end, 1 roots, 30 extra nodes, 18 pruned nodes, max_depth=5\u001b[0m\n",
      "\u001b[34m[2]#011train-error:0.099754#011validation-error:0.103423\u001b[0m\n",
      "\u001b[34m[00:59:14] src/tree/updater_prune.cc:74: tree pruning end, 1 roots, 28 extra nodes, 14 pruned nodes, max_depth=5\u001b[0m\n",
      "\u001b[34m[3]#011train-error:0.09958#011validation-error:0.103909\u001b[0m\n",
      "\u001b[34m[00:59:14] src/tree/updater_prune.cc:74: tree pruning end, 1 roots, 28 extra nodes, 12 pruned nodes, max_depth=5\u001b[0m\n",
      "\u001b[34m[4]#011train-error:0.099338#011validation-error:0.103099\u001b[0m\n",
      "\u001b[34m[00:59:14] src/tree/updater_prune.cc:74: tree pruning end, 1 roots, 30 extra nodes, 16 pruned nodes, max_depth=5\u001b[0m\n",
      "\u001b[34m[5]#011train-error:0.099719#011validation-error:0.103099\u001b[0m\n",
      "\u001b[34m[00:59:14] src/tree/updater_prune.cc:74: tree pruning end, 1 roots, 28 extra nodes, 14 pruned nodes, max_depth=5\u001b[0m\n",
      "\u001b[34m[6]#011train-error:0.099442#011validation-error:0.102614\u001b[0m\n",
      "\u001b[34m[00:59:14] src/tree/updater_prune.cc:74: tree pruning end, 1 roots, 28 extra nodes, 20 pruned nodes, max_depth=5\u001b[0m\n",
      "\u001b[34m[7]#011train-error:0.099476#011validation-error:0.102938\u001b[0m\n",
      "\u001b[34m[00:59:14] src/tree/updater_prune.cc:74: tree pruning end, 1 roots, 24 extra nodes, 22 pruned nodes, max_depth=5\u001b[0m\n",
      "\u001b[34m[8]#011train-error:0.099338#011validation-error:0.103099\u001b[0m\n",
      "\u001b[34m[00:59:14] src/tree/updater_prune.cc:74: tree pruning end, 1 roots, 28 extra nodes, 14 pruned nodes, max_depth=5\u001b[0m\n",
      "\u001b[34m[9]#011train-error:0.099546#011validation-error:0.103019\u001b[0m\n",
      "\u001b[34m[00:59:14] src/tree/updater_prune.cc:74: tree pruning end, 1 roots, 24 extra nodes, 22 pruned nodes, max_depth=5\u001b[0m\n",
      "\u001b[34m[10]#011train-error:0.099199#011validation-error:0.102857\u001b[0m\n",
      "\u001b[34m[00:59:14] src/tree/updater_prune.cc:74: tree pruning end, 1 roots, 32 extra nodes, 18 pruned nodes, max_depth=5\u001b[0m\n",
      "\u001b[34m[11]#011train-error:0.098991#011validation-error:0.103099\u001b[0m\n",
      "\u001b[34m[00:59:14] src/tree/updater_prune.cc:74: tree pruning end, 1 roots, 24 extra nodes, 18 pruned nodes, max_depth=5\u001b[0m\n",
      "\u001b[34m[12]#011train-error:0.098991#011validation-error:0.10318\u001b[0m\n",
      "\u001b[34m[00:59:14] src/tree/updater_prune.cc:74: tree pruning end, 1 roots, 22 extra nodes, 4 pruned nodes, max_depth=5\u001b[0m\n",
      "\u001b[34m[13]#011train-error:0.099025#011validation-error:0.103261\u001b[0m\n",
      "\u001b[34m[00:59:14] src/tree/updater_prune.cc:74: tree pruning end, 1 roots, 28 extra nodes, 24 pruned nodes, max_depth=5\u001b[0m\n",
      "\u001b[34m[14]#011train-error:0.098679#011validation-error:0.103261\u001b[0m\n",
      "\u001b[34m[00:59:14] src/tree/updater_prune.cc:74: tree pruning end, 1 roots, 30 extra nodes, 20 pruned nodes, max_depth=5\u001b[0m\n",
      "\u001b[34m[15]#011train-error:0.098644#011validation-error:0.103342\u001b[0m\n",
      "\u001b[34m[00:59:14] src/tree/updater_prune.cc:74: tree pruning end, 1 roots, 16 extra nodes, 22 pruned nodes, max_depth=5\u001b[0m\n",
      "\u001b[34m[16]#011train-error:0.098644#011validation-error:0.103504\u001b[0m\n",
      "\u001b[34m[00:59:14] src/tree/updater_prune.cc:74: tree pruning end, 1 roots, 24 extra nodes, 20 pruned nodes, max_depth=5\u001b[0m\n",
      "\u001b[34m[17]#011train-error:0.098679#011validation-error:0.103666\u001b[0m\n",
      "\u001b[34m[00:59:14] src/tree/updater_prune.cc:74: tree pruning end, 1 roots, 24 extra nodes, 14 pruned nodes, max_depth=5\u001b[0m\n",
      "\u001b[34m[18]#011train-error:0.09847#011validation-error:0.103423\u001b[0m\n",
      "\u001b[34m[00:59:14] src/tree/updater_prune.cc:74: tree pruning end, 1 roots, 26 extra nodes, 14 pruned nodes, max_depth=5\u001b[0m\n",
      "\u001b[34m[19]#011train-error:0.098401#011validation-error:0.104071\u001b[0m\n",
      "\u001b[34m[00:59:14] src/tree/updater_prune.cc:74: tree pruning end, 1 roots, 30 extra nodes, 18 pruned nodes, max_depth=5\u001b[0m\n",
      "\u001b[34m[20]#011train-error:0.098297#011validation-error:0.103909\u001b[0m\n",
      "\u001b[34m[00:59:14] src/tree/updater_prune.cc:74: tree pruning end, 1 roots, 24 extra nodes, 14 pruned nodes, max_depth=5\u001b[0m\n",
      "\u001b[34m[21]#011train-error:0.098332#011validation-error:0.104475\u001b[0m\n",
      "\u001b[34m[00:59:14] src/tree/updater_prune.cc:74: tree pruning end, 1 roots, 34 extra nodes, 12 pruned nodes, max_depth=5\u001b[0m\n",
      "\u001b[34m[22]#011train-error:0.09854#011validation-error:0.104313\u001b[0m\n",
      "\u001b[34m[00:59:14] src/tree/updater_prune.cc:74: tree pruning end, 1 roots, 22 extra nodes, 10 pruned nodes, max_depth=5\u001b[0m\n",
      "\u001b[34m[23]#011train-error:0.098332#011validation-error:0.104637\u001b[0m\n",
      "\u001b[34m[00:59:15] src/tree/updater_prune.cc:74: tree pruning end, 1 roots, 18 extra nodes, 28 pruned nodes, max_depth=5\u001b[0m\n",
      "\u001b[34m[24]#011train-error:0.098297#011validation-error:0.104718\u001b[0m\n",
      "\u001b[34m[00:59:15] src/tree/updater_prune.cc:74: tree pruning end, 1 roots, 26 extra nodes, 12 pruned nodes, max_depth=5\u001b[0m\n",
      "\u001b[34m[25]#011train-error:0.098297#011validation-error:0.104475\u001b[0m\n",
      "\u001b[34m[00:59:15] src/tree/updater_prune.cc:74: tree pruning end, 1 roots, 30 extra nodes, 10 pruned nodes, max_depth=5\u001b[0m\n",
      "\u001b[34m[26]#011train-error:0.098228#011validation-error:0.104394\u001b[0m\n",
      "\u001b[34m[00:59:15] src/tree/updater_prune.cc:74: tree pruning end, 1 roots, 10 extra nodes, 38 pruned nodes, max_depth=5\u001b[0m\n",
      "\u001b[34m[27]#011train-error:0.09795#011validation-error:0.104475\u001b[0m\n",
      "\u001b[34m[00:59:15] src/tree/updater_prune.cc:74: tree pruning end, 1 roots, 22 extra nodes, 4 pruned nodes, max_depth=5\u001b[0m\n",
      "\u001b[34m[28]#011train-error:0.098158#011validation-error:0.104556\u001b[0m\n",
      "\u001b[34m[00:59:15] src/tree/updater_prune.cc:74: tree pruning end, 1 roots, 14 extra nodes, 10 pruned nodes, max_depth=5\u001b[0m\n",
      "\u001b[34m[29]#011train-error:0.098124#011validation-error:0.104637\u001b[0m\n",
      "\u001b[34m[00:59:15] src/tree/updater_prune.cc:74: tree pruning end, 1 roots, 26 extra nodes, 18 pruned nodes, max_depth=5\u001b[0m\n",
      "\u001b[34m[30]#011train-error:0.097811#011validation-error:0.104394\u001b[0m\n",
      "\u001b[34m[00:59:15] src/tree/updater_prune.cc:74: tree pruning end, 1 roots, 14 extra nodes, 26 pruned nodes, max_depth=5\u001b[0m\n",
      "\u001b[34m[31]#011train-error:0.097742#011validation-error:0.104475\u001b[0m\n",
      "\u001b[34m[00:59:15] src/tree/updater_prune.cc:74: tree pruning end, 1 roots, 14 extra nodes, 18 pruned nodes, max_depth=5\u001b[0m\n",
      "\u001b[34m[32]#011train-error:0.097603#011validation-error:0.104718\u001b[0m\n",
      "\u001b[34m[00:59:15] src/tree/updater_prune.cc:74: tree pruning end, 1 roots, 12 extra nodes, 10 pruned nodes, max_depth=5\u001b[0m\n",
      "\u001b[34m[33]#011train-error:0.097638#011validation-error:0.104961\u001b[0m\n",
      "\u001b[34m[00:59:15] src/tree/updater_prune.cc:74: tree pruning end, 1 roots, 18 extra nodes, 12 pruned nodes, max_depth=5\u001b[0m\n",
      "\u001b[34m[34]#011train-error:0.097603#011validation-error:0.104475\u001b[0m\n",
      "\u001b[34m[00:59:15] src/tree/updater_prune.cc:74: tree pruning end, 1 roots, 34 extra nodes, 8 pruned nodes, max_depth=5\u001b[0m\n",
      "\u001b[34m[35]#011train-error:0.097673#011validation-error:0.104556\u001b[0m\n",
      "\u001b[34m[00:59:15] src/tree/updater_prune.cc:74: tree pruning end, 1 roots, 18 extra nodes, 30 pruned nodes, max_depth=5\u001b[0m\n",
      "\u001b[34m[36]#011train-error:0.097534#011validation-error:0.104799\u001b[0m\n",
      "\u001b[34m[00:59:15] src/tree/updater_prune.cc:74: tree pruning end, 1 roots, 24 extra nodes, 14 pruned nodes, max_depth=5\u001b[0m\n",
      "\u001b[34m[37]#011train-error:0.097569#011validation-error:0.10488\u001b[0m\n",
      "\u001b[34m[00:59:15] src/tree/updater_prune.cc:74: tree pruning end, 1 roots, 16 extra nodes, 18 pruned nodes, max_depth=5\u001b[0m\n",
      "\u001b[34m[38]#011train-error:0.097256#011validation-error:0.105284\u001b[0m\n",
      "\u001b[34m[00:59:15] src/tree/updater_prune.cc:74: tree pruning end, 1 roots, 22 extra nodes, 28 pruned nodes, max_depth=5\u001b[0m\n",
      "\u001b[34m[39]#011train-error:0.097152#011validation-error:0.105446\u001b[0m\n",
      "\u001b[34m[00:59:15] src/tree/updater_prune.cc:74: tree pruning end, 1 roots, 26 extra nodes, 20 pruned nodes, max_depth=5\u001b[0m\n",
      "\u001b[34m[40]#011train-error:0.097048#011validation-error:0.105689\u001b[0m\n",
      "\u001b[34m[00:59:15] src/tree/updater_prune.cc:74: tree pruning end, 1 roots, 8 extra nodes, 28 pruned nodes, max_depth=4\u001b[0m\n",
      "\u001b[34m[41]#011train-error:0.097048#011validation-error:0.105689\u001b[0m\n",
      "\u001b[34m[00:59:15] src/tree/updater_prune.cc:74: tree pruning end, 1 roots, 12 extra nodes, 16 pruned nodes, max_depth=5\u001b[0m\n",
      "\u001b[34m[42]#011train-error:0.096806#011validation-error:0.105689\u001b[0m\n",
      "\u001b[34m[00:59:15] src/tree/updater_prune.cc:74: tree pruning end, 1 roots, 14 extra nodes, 28 pruned nodes, max_depth=5\u001b[0m\n",
      "\u001b[34m[43]#011train-error:0.09691#011validation-error:0.105932\u001b[0m\n",
      "\u001b[34m[00:59:15] src/tree/updater_prune.cc:74: tree pruning end, 1 roots, 16 extra nodes, 18 pruned nodes, max_depth=5\u001b[0m\n",
      "\u001b[34m[44]#011train-error:0.096944#011validation-error:0.106013\u001b[0m\n",
      "\u001b[34m[00:59:15] src/tree/updater_prune.cc:74: tree pruning end, 1 roots, 10 extra nodes, 16 pruned nodes, max_depth=5\u001b[0m\n",
      "\u001b[34m[45]#011train-error:0.097014#011validation-error:0.105608\u001b[0m\n",
      "\u001b[34m[00:59:15] src/tree/updater_prune.cc:74: tree pruning end, 1 roots, 22 extra nodes, 24 pruned nodes, max_depth=5\u001b[0m\n",
      "\u001b[34m[46]#011train-error:0.096979#011validation-error:0.105932\u001b[0m\n",
      "\u001b[34m[00:59:15] src/tree/updater_prune.cc:74: tree pruning end, 1 roots, 20 extra nodes, 6 pruned nodes, max_depth=5\u001b[0m\n",
      "\u001b[34m[47]#011train-error:0.097256#011validation-error:0.10577\u001b[0m\n",
      "\u001b[34m[00:59:15] src/tree/updater_prune.cc:74: tree pruning end, 1 roots, 16 extra nodes, 10 pruned nodes, max_depth=5\u001b[0m\n",
      "\u001b[34m[48]#011train-error:0.097256#011validation-error:0.105204\u001b[0m\n",
      "\u001b[34m[00:59:15] src/tree/updater_prune.cc:74: tree pruning end, 1 roots, 12 extra nodes, 16 pruned nodes, max_depth=5\u001b[0m\n",
      "\u001b[34m[49]#011train-error:0.097048#011validation-error:0.105284\u001b[0m\n",
      "\u001b[34m[00:59:15] src/tree/updater_prune.cc:74: tree pruning end, 1 roots, 18 extra nodes, 16 pruned nodes, max_depth=5\u001b[0m\n",
      "\u001b[34m[50]#011train-error:0.096979#011validation-error:0.105204\u001b[0m\n",
      "\u001b[34m[00:59:15] src/tree/updater_prune.cc:74: tree pruning end, 1 roots, 24 extra nodes, 30 pruned nodes, max_depth=5\u001b[0m\n",
      "\u001b[34m[51]#011train-error:0.096806#011validation-error:0.105284\u001b[0m\n",
      "\u001b[34m[00:59:15] src/tree/updater_prune.cc:74: tree pruning end, 1 roots, 12 extra nodes, 12 pruned nodes, max_depth=5\u001b[0m\n",
      "\u001b[34m[52]#011train-error:0.09691#011validation-error:0.105689\u001b[0m\n",
      "\u001b[34m[00:59:15] src/tree/updater_prune.cc:74: tree pruning end, 1 roots, 10 extra nodes, 10 pruned nodes, max_depth=5\u001b[0m\n",
      "\u001b[34m[53]#011train-error:0.096875#011validation-error:0.105932\u001b[0m\n",
      "\u001b[34m[00:59:15] src/tree/updater_prune.cc:74: tree pruning end, 1 roots, 8 extra nodes, 26 pruned nodes, max_depth=4\u001b[0m\n",
      "\u001b[34m[54]#011train-error:0.096771#011validation-error:0.105851\u001b[0m\n",
      "\u001b[34m[00:59:15] src/tree/updater_prune.cc:74: tree pruning end, 1 roots, 12 extra nodes, 2 pruned nodes, max_depth=5\u001b[0m\n",
      "\u001b[34m[55]#011train-error:0.096667#011validation-error:0.105932\u001b[0m\n",
      "\u001b[34m[00:59:15] src/tree/updater_prune.cc:74: tree pruning end, 1 roots, 16 extra nodes, 22 pruned nodes, max_depth=5\u001b[0m\n",
      "\u001b[34m[56]#011train-error:0.096563#011validation-error:0.105689\u001b[0m\n",
      "\u001b[34m[00:59:15] src/tree/updater_prune.cc:74: tree pruning end, 1 roots, 22 extra nodes, 14 pruned nodes, max_depth=5\u001b[0m\n",
      "\u001b[34m[57]#011train-error:0.097083#011validation-error:0.105365\u001b[0m\n",
      "\u001b[34m[00:59:15] src/tree/updater_prune.cc:74: tree pruning end, 1 roots, 10 extra nodes, 32 pruned nodes, max_depth=5\u001b[0m\n",
      "\u001b[34m[58]#011train-error:0.096806#011validation-error:0.105042\u001b[0m\n",
      "\u001b[34m[00:59:15] src/tree/updater_prune.cc:74: tree pruning end, 1 roots, 18 extra nodes, 16 pruned nodes, max_depth=5\u001b[0m\n",
      "\u001b[34m[59]#011train-error:0.096528#011validation-error:0.105123\u001b[0m\n",
      "\u001b[34m[00:59:15] src/tree/updater_prune.cc:74: tree pruning end, 1 roots, 20 extra nodes, 28 pruned nodes, max_depth=5\u001b[0m\n",
      "\u001b[34m[60]#011train-error:0.096632#011validation-error:0.10488\u001b[0m\n",
      "\u001b[34m[00:59:15] src/tree/updater_prune.cc:74: tree pruning end, 1 roots, 10 extra nodes, 14 pruned nodes, max_depth=5\u001b[0m\n",
      "\u001b[34m[61]#011train-error:0.096528#011validation-error:0.104961\u001b[0m\n",
      "\u001b[34m[00:59:15] src/tree/updater_prune.cc:74: tree pruning end, 1 roots, 16 extra nodes, 24 pruned nodes, max_depth=5\u001b[0m\n",
      "\u001b[34m[62]#011train-error:0.096389#011validation-error:0.104799\u001b[0m\n",
      "\u001b[34m[00:59:15] src/tree/updater_prune.cc:74: tree pruning end, 1 roots, 12 extra nodes, 32 pruned nodes, max_depth=5\u001b[0m\n",
      "\u001b[34m[63]#011train-error:0.096459#011validation-error:0.104718\u001b[0m\n",
      "\u001b[34m[00:59:15] src/tree/updater_prune.cc:74: tree pruning end, 1 roots, 18 extra nodes, 24 pruned nodes, max_depth=5\u001b[0m\n",
      "\u001b[34m[64]#011train-error:0.096389#011validation-error:0.104637\u001b[0m\n",
      "\u001b[34m[00:59:15] src/tree/updater_prune.cc:74: tree pruning end, 1 roots, 20 extra nodes, 20 pruned nodes, max_depth=5\u001b[0m\n",
      "\u001b[34m[65]#011train-error:0.096181#011validation-error:0.104556\u001b[0m\n",
      "\u001b[34m[00:59:15] src/tree/updater_prune.cc:74: tree pruning end, 1 roots, 24 extra nodes, 28 pruned nodes, max_depth=5\u001b[0m\n",
      "\u001b[34m[66]#011train-error:0.096251#011validation-error:0.104718\u001b[0m\n",
      "\u001b[34m[00:59:15] src/tree/updater_prune.cc:74: tree pruning end, 1 roots, 22 extra nodes, 20 pruned nodes, max_depth=5\u001b[0m\n",
      "\u001b[34m[67]#011train-error:0.096042#011validation-error:0.104718\u001b[0m\n",
      "\u001b[34m[00:59:15] src/tree/updater_prune.cc:74: tree pruning end, 1 roots, 16 extra nodes, 26 pruned nodes, max_depth=5\u001b[0m\n",
      "\u001b[34m[68]#011train-error:0.096077#011validation-error:0.104718\u001b[0m\n",
      "\u001b[34m[00:59:15] src/tree/updater_prune.cc:74: tree pruning end, 1 roots, 14 extra nodes, 8 pruned nodes, max_depth=5\u001b[0m\n",
      "\u001b[34m[69]#011train-error:0.096112#011validation-error:0.104556\u001b[0m\n",
      "\u001b[34m[00:59:15] src/tree/updater_prune.cc:74: tree pruning end, 1 roots, 18 extra nodes, 22 pruned nodes, max_depth=5\u001b[0m\n",
      "\u001b[34m[70]#011train-error:0.095938#011validation-error:0.104718\u001b[0m\n",
      "\u001b[34m[00:59:15] src/tree/updater_prune.cc:74: tree pruning end, 1 roots, 14 extra nodes, 24 pruned nodes, max_depth=5\u001b[0m\n",
      "\u001b[34m[71]#011train-error:0.0958#011validation-error:0.105446\u001b[0m\n",
      "\u001b[34m[00:59:15] src/tree/updater_prune.cc:74: tree pruning end, 1 roots, 18 extra nodes, 22 pruned nodes, max_depth=5\u001b[0m\n",
      "\u001b[34m[72]#011train-error:0.095522#011validation-error:0.105608\u001b[0m\n",
      "\u001b[34m[00:59:15] src/tree/updater_prune.cc:74: tree pruning end, 1 roots, 16 extra nodes, 18 pruned nodes, max_depth=5\u001b[0m\n",
      "\u001b[34m[73]#011train-error:0.095557#011validation-error:0.105608\u001b[0m\n",
      "\u001b[34m[00:59:15] src/tree/updater_prune.cc:74: tree pruning end, 1 roots, 8 extra nodes, 8 pruned nodes, max_depth=4\u001b[0m\n",
      "\u001b[34m[74]#011train-error:0.095453#011validation-error:0.105527\u001b[0m\n",
      "\u001b[34m[00:59:15] src/tree/updater_prune.cc:74: tree pruning end, 1 roots, 20 extra nodes, 10 pruned nodes, max_depth=5\u001b[0m\n",
      "\u001b[34m[75]#011train-error:0.095383#011validation-error:0.105042\u001b[0m\n",
      "\u001b[34m[00:59:15] src/tree/updater_prune.cc:74: tree pruning end, 1 roots, 14 extra nodes, 20 pruned nodes, max_depth=5\u001b[0m\n",
      "\u001b[34m[76]#011train-error:0.095279#011validation-error:0.105204\u001b[0m\n",
      "\u001b[34m[00:59:15] src/tree/updater_prune.cc:74: tree pruning end, 1 roots, 8 extra nodes, 24 pruned nodes, max_depth=3\u001b[0m\n",
      "\u001b[34m[77]#011train-error:0.095071#011validation-error:0.105123\u001b[0m\n",
      "\u001b[34m[00:59:15] src/tree/updater_prune.cc:74: tree pruning end, 1 roots, 0 extra nodes, 12 pruned nodes, max_depth=0\u001b[0m\n",
      "\u001b[34m[78]#011train-error:0.095106#011validation-error:0.105204\u001b[0m\n",
      "\u001b[34m[00:59:15] src/tree/updater_prune.cc:74: tree pruning end, 1 roots, 10 extra nodes, 20 pruned nodes, max_depth=5\u001b[0m\n",
      "\u001b[34m[79]#011train-error:0.094967#011validation-error:0.105284\u001b[0m\n",
      "\u001b[34m[00:59:15] src/tree/updater_prune.cc:74: tree pruning end, 1 roots, 10 extra nodes, 28 pruned nodes, max_depth=5\u001b[0m\n",
      "\u001b[34m[80]#011train-error:0.095071#011validation-error:0.105365\u001b[0m\n",
      "\u001b[34m[00:59:15] src/tree/updater_prune.cc:74: tree pruning end, 1 roots, 18 extra nodes, 10 pruned nodes, max_depth=5\u001b[0m\n",
      "\u001b[34m[81]#011train-error:0.095245#011validation-error:0.105123\u001b[0m\n",
      "\u001b[34m[00:59:15] src/tree/updater_prune.cc:74: tree pruning end, 1 roots, 12 extra nodes, 36 pruned nodes, max_depth=5\u001b[0m\n",
      "\u001b[34m[82]#011train-error:0.095349#011validation-error:0.10488\u001b[0m\n",
      "\u001b[34m[00:59:16] src/tree/updater_prune.cc:74: tree pruning end, 1 roots, 12 extra nodes, 30 pruned nodes, max_depth=5\u001b[0m\n",
      "\u001b[34m[83]#011train-error:0.095279#011validation-error:0.104961\u001b[0m\n",
      "\u001b[34m[00:59:16] src/tree/updater_prune.cc:74: tree pruning end, 1 roots, 4 extra nodes, 20 pruned nodes, max_depth=2\u001b[0m\n",
      "\u001b[34m[84]#011train-error:0.095245#011validation-error:0.105042\u001b[0m\n",
      "\u001b[34m[00:59:16] src/tree/updater_prune.cc:74: tree pruning end, 1 roots, 12 extra nodes, 20 pruned nodes, max_depth=5\u001b[0m\n",
      "\u001b[34m[85]#011train-error:0.094967#011validation-error:0.105204\u001b[0m\n",
      "\u001b[34m[00:59:16] src/tree/updater_prune.cc:74: tree pruning end, 1 roots, 18 extra nodes, 16 pruned nodes, max_depth=5\u001b[0m\n",
      "\u001b[34m[86]#011train-error:0.095071#011validation-error:0.105204\u001b[0m\n",
      "\u001b[34m[00:59:16] src/tree/updater_prune.cc:74: tree pruning end, 1 roots, 12 extra nodes, 20 pruned nodes, max_depth=4\u001b[0m\n",
      "\u001b[34m[87]#011train-error:0.094863#011validation-error:0.105284\u001b[0m\n",
      "\u001b[34m[00:59:16] src/tree/updater_prune.cc:74: tree pruning end, 1 roots, 4 extra nodes, 24 pruned nodes, max_depth=2\u001b[0m\n",
      "\u001b[34m[88]#011train-error:0.094759#011validation-error:0.105365\u001b[0m\n",
      "\u001b[34m[00:59:16] src/tree/updater_prune.cc:74: tree pruning end, 1 roots, 6 extra nodes, 36 pruned nodes, max_depth=3\u001b[0m\n",
      "\u001b[34m[89]#011train-error:0.095037#011validation-error:0.105204\u001b[0m\n",
      "\u001b[34m[00:59:16] src/tree/updater_prune.cc:74: tree pruning end, 1 roots, 8 extra nodes, 14 pruned nodes, max_depth=4\u001b[0m\n",
      "\u001b[34m[90]#011train-error:0.095037#011validation-error:0.105284\u001b[0m\n",
      "\u001b[34m[00:59:16] src/tree/updater_prune.cc:74: tree pruning end, 1 roots, 16 extra nodes, 22 pruned nodes, max_depth=5\u001b[0m\n",
      "\u001b[34m[91]#011train-error:0.094898#011validation-error:0.105527\u001b[0m\n",
      "\u001b[34m[00:59:16] src/tree/updater_prune.cc:74: tree pruning end, 1 roots, 10 extra nodes, 14 pruned nodes, max_depth=5\u001b[0m\n",
      "\u001b[34m[92]#011train-error:0.095002#011validation-error:0.105446\u001b[0m\n",
      "\u001b[34m[00:59:16] src/tree/updater_prune.cc:74: tree pruning end, 1 roots, 22 extra nodes, 28 pruned nodes, max_depth=5\u001b[0m\n",
      "\u001b[34m[93]#011train-error:0.094794#011validation-error:0.105284\u001b[0m\n",
      "\u001b[34m[00:59:16] src/tree/updater_prune.cc:74: tree pruning end, 1 roots, 8 extra nodes, 30 pruned nodes, max_depth=4\u001b[0m\n",
      "\u001b[34m[94]#011train-error:0.094759#011validation-error:0.105284\u001b[0m\n",
      "\u001b[34m[00:59:16] src/tree/updater_prune.cc:74: tree pruning end, 1 roots, 0 extra nodes, 24 pruned nodes, max_depth=0\u001b[0m\n",
      "\u001b[34m[95]#011train-error:0.094828#011validation-error:0.105204\u001b[0m\n",
      "\u001b[34m[00:59:16] src/tree/updater_prune.cc:74: tree pruning end, 1 roots, 10 extra nodes, 22 pruned nodes, max_depth=5\u001b[0m\n",
      "\u001b[34m[96]#011train-error:0.094898#011validation-error:0.105446\u001b[0m\n",
      "\u001b[34m[00:59:16] src/tree/updater_prune.cc:74: tree pruning end, 1 roots, 16 extra nodes, 28 pruned nodes, max_depth=5\u001b[0m\n",
      "\u001b[34m[97]#011train-error:0.094759#011validation-error:0.105204\u001b[0m\n",
      "\u001b[34m[00:59:16] src/tree/updater_prune.cc:74: tree pruning end, 1 roots, 22 extra nodes, 10 pruned nodes, max_depth=5\u001b[0m\n",
      "\u001b[34m[98]#011train-error:0.094898#011validation-error:0.105446\u001b[0m\n",
      "\u001b[34m[00:59:16] src/tree/updater_prune.cc:74: tree pruning end, 1 roots, 0 extra nodes, 22 pruned nodes, max_depth=0\u001b[0m\n",
      "\u001b[34m[99]#011train-error:0.094933#011validation-error:0.105365\u001b[0m\n",
      "\n",
      "2021-10-27 00:59:45 Completed - Training job completed\n",
      "Training seconds: 42\n",
      "Billable seconds: 21\n",
      "Managed Spot Training savings: 50.0%\n"
     ]
    }
   ],
   "source": [
    "estimator.fit({'train': TrainingInput_train, 'validation': TrainingInput_test})"
   ]
  },
  {
   "cell_type": "code",
   "execution_count": null,
   "id": "6212c43c",
   "metadata": {},
   "outputs": [],
   "source": []
  },
  {
   "cell_type": "markdown",
   "id": "da414b1b",
   "metadata": {},
   "source": [
    "## Deploy Machine Learning Model"
   ]
  },
  {
   "cell_type": "code",
   "execution_count": 13,
   "id": "1a5c8118",
   "metadata": {},
   "outputs": [
    {
     "name": "stdout",
     "output_type": "stream",
     "text": [
      "------------------!"
     ]
    }
   ],
   "source": [
    "xgb_predictor = estimator.deploy(initial_instance_count=1, instance_type='ml.m4.xlarge')"
   ]
  },
  {
   "cell_type": "markdown",
   "id": "14d201a5",
   "metadata": {},
   "source": [
    "## Prediction of the Test Data"
   ]
  },
  {
   "cell_type": "code",
   "execution_count": 23,
   "id": "a96f4470",
   "metadata": {},
   "outputs": [
    {
     "name": "stderr",
     "output_type": "stream",
     "text": [
      "The csv_serializer has been renamed in sagemaker>=2.\n",
      "See: https://sagemaker.readthedocs.io/en/stable/v2.html for details.\n"
     ]
    },
    {
     "name": "stdout",
     "output_type": "stream",
     "text": [
      "(12357,)\n"
     ]
    }
   ],
   "source": [
    "from sagemaker.predictor import csv_serializer\n",
    "test_data_array = test_data.drop(['y_no', 'y_yes'], axis=1).values       # Load the data into an array\n",
    "#xgb_predictor.content_type = 'text/csv'     # set the data type for an inference\n",
    "xgb_predictor.serializer = csv_serializer       # set the serializer type\n",
    "predictions = xgb_predictor.predict(test_data_array).decode('utf-8')        # predict !\n",
    "predictions_array= np.fromstring(predictions[1:], sep=\",\")    # and turn the prediction into an array\n",
    "print(predictions_array.shape)"
   ]
  },
  {
   "cell_type": "code",
   "execution_count": 24,
   "id": "5b185519",
   "metadata": {},
   "outputs": [
    {
     "data": {
      "text/plain": [
       "array([0.05773537, 0.06024943, 0.04264852, ..., 0.03181691, 0.02607246,\n",
       "       0.03320044])"
      ]
     },
     "execution_count": 24,
     "metadata": {},
     "output_type": "execute_result"
    }
   ],
   "source": [
    "predictions_array"
   ]
  },
  {
   "cell_type": "code",
   "execution_count": 28,
   "id": "c163892b",
   "metadata": {},
   "outputs": [
    {
     "name": "stdout",
     "output_type": "stream",
     "text": [
      "\n",
      "Overall Classification Rate: 89.5%\n",
      "\n",
      "Predicted      No Purchase    Purchase\n",
      "Observed\n",
      "No Purchase    90% (10764)    37% (172)\n",
      "Purchase        10% (1130)    63% (291) \n",
      "\n"
     ]
    }
   ],
   "source": [
    "cm = pd.crosstab(index=test_data['y_yes'], columns=np.round(predictions_array), rownames=['Observed'], colnames=['Predictions'])\n",
    "tn = cm.iloc[0, 0] \n",
    "fn = cm.iloc[1, 0]\n",
    "tp = cm.iloc[1, 1]\n",
    "fp = cm.iloc[0, 1]\n",
    "p = (tp+tn)/(tp+tn+fp+fn)*100\n",
    "print(\"\\n{0:<20}{1:<4.1f}%\\n\".format(\"Overall Classification Rate: \", p))\n",
    "print(\"{0:<15}{1:<15}{2:>8}\".format(\"Predicted\", \"No Purchase\", \"Purchase\"))\n",
    "print(\"Observed\")\n",
    "print(\"{0:<15}{1:<2.0f}% ({2:<}){3:>6.0f}% ({4:<})\".format(\"No Purchase\", tn/(tn+fn)*100, tn, fp/(tp+fp)*100, fp))\n",
    "print(\"{0:<16}{1:<1.0f}% ({2:<}){3:>6.0f}% ({4:<}) \\n\".format(\"Purchase\", fn/(tn+fn)*100, fn, tp/(tp+fp)*100, tp))"
   ]
  },
  {
   "cell_type": "code",
   "execution_count": null,
   "id": "cdce5fbe",
   "metadata": {},
   "outputs": [],
   "source": []
  }
 ],
 "metadata": {
  "kernelspec": {
   "display_name": "conda_python3",
   "language": "python",
   "name": "conda_python3"
  },
  "language_info": {
   "codemirror_mode": {
    "name": "ipython",
    "version": 3
   },
   "file_extension": ".py",
   "mimetype": "text/x-python",
   "name": "python",
   "nbconvert_exporter": "python",
   "pygments_lexer": "ipython3",
   "version": "3.6.13"
  }
 },
 "nbformat": 4,
 "nbformat_minor": 5
}
